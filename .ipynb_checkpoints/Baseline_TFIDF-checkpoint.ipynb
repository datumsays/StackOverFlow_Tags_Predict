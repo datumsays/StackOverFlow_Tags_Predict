{
 "cells": [
  {
   "cell_type": "code",
   "execution_count": 4,
   "metadata": {
    "collapsed": false
   },
   "outputs": [],
   "source": [
    "import pandas as pd\n",
    "import numpy as np\n",
    "import os\n",
    "\n",
    "os.chdir('/Users/daniellee/Desktop/Kaggle/jobs_code_demo/data/stackoverflow_data/')\n",
    "train = pd.read_csv('cleaned/df_cleaned.csv')\n",
    "test  = pd.read_csv('cleaned/test_cleaned.csv')"
   ]
  },
  {
   "cell_type": "markdown",
   "metadata": {},
   "source": [
    "### Basic Munging\n",
    "\n",
    "Concatenate title and content columns found in both train and test datasets to <br>\n",
    "train the TFIDF algorithm on the new column for tags prediction."
   ]
  },
  {
   "cell_type": "code",
   "execution_count": 5,
   "metadata": {
    "collapsed": false
   },
   "outputs": [],
   "source": [
    "train['combined'] = train.title.str.cat(train.content, sep=' ')\n",
    "test['combined'] = test.title.str.cat(test.content, sep=' ')"
   ]
  },
  {
   "cell_type": "markdown",
   "metadata": {},
   "source": [
    "### Train TFIDF"
   ]
  },
  {
   "cell_type": "code",
   "execution_count": 7,
   "metadata": {
    "collapsed": false
   },
   "outputs": [],
   "source": [
    "from gensim import corpora, models, similarities\n",
    "from operator import itemgetter\n",
    "\n",
    "# Remove NaN value\n",
    "test = test.fillna('')\n",
    "\n",
    "# Tokenize the combined column in test\n",
    "tCorpus = list(test.combined.str.split())\n",
    "\n",
    "# Fetch id for each word\n",
    "idDict = corpora.Dictionary(tCorpus)\n",
    "\n",
    "# Get the reverse key-value mapping \n",
    "inv_Dict = {v: k for v, k in idDict.items()}\n",
    "\n",
    "# Transform tCorpus into vector form\n",
    "vCorpus = [idDict.doc2bow(tokens) for tokens in tCorpus]\n",
    "\n",
    "# Fit TFIDF\n",
    "tfidf = models.TfidfModel(vCorpus)"
   ]
  },
  {
   "cell_type": "markdown",
   "metadata": {},
   "source": [
    "### Predict"
   ]
  },
  {
   "cell_type": "code",
   "execution_count": 10,
   "metadata": {
    "collapsed": false
   },
   "outputs": [],
   "source": [
    "from operator import itemgetter\n",
    "from itertools import chain\n",
    "\n",
    "topK = 4\n",
    "tags = []\n",
    "for dc in tfidf[vCorpus]:\n",
    "    \n",
    "    idscore = list(map(itemgetter(0), sorted(dc, key=itemgetter(1), reverse=True)[:topK]))\n",
    "    wordscore = [inv_Dict[wrd] for wrd in idscore]\n",
    "    tags.append(' '.join(wordscore))\n",
    "\n",
    "tagsSeries = pd.Series(tags)\n",
    "test['tags'] = tagsSeries"
   ]
  },
  {
   "cell_type": "markdown",
   "metadata": {
    "collapsed": true
   },
   "source": [
    "### Output Result"
   ]
  },
  {
   "cell_type": "code",
   "execution_count": 11,
   "metadata": {
    "collapsed": false
   },
   "outputs": [],
   "source": [
    "test[['id','tags']].to_csv('submission/baseline_tfidf.csv', index=False)"
   ]
  }
 ],
 "metadata": {
  "anaconda-cloud": {},
  "kernelspec": {
   "display_name": "Python [Root]",
   "language": "python",
   "name": "Python [Root]"
  },
  "language_info": {
   "codemirror_mode": {
    "name": "ipython",
    "version": 3
   },
   "file_extension": ".py",
   "mimetype": "text/x-python",
   "name": "python",
   "nbconvert_exporter": "python",
   "pygments_lexer": "ipython3",
   "version": "3.5.2"
  }
 },
 "nbformat": 4,
 "nbformat_minor": 0
}
