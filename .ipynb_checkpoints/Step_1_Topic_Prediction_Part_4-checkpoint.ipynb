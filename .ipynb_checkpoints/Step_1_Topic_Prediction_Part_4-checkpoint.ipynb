{
 "cells": [
  {
   "cell_type": "code",
   "execution_count": 98,
   "metadata": {
    "collapsed": false
   },
   "outputs": [],
   "source": [
    "# Modules Requires\n",
    "\n",
    "# Common\n",
    "import numpy as np\n",
    "import pandas as pd\n",
    "import time\n",
    "import os\n",
    "import glob\n",
    "\n",
    "# Special tools\n",
    "from operator import itemgetter\n",
    "from itertools import chain\n",
    "\n",
    "# Sklearn \n",
    "from sklearn.preprocessing import LabelEncoder\n",
    "from sklearn.naive_bayes import MultinomialNB\n",
    "from sklearn.preprocessing import LabelEncoder\n",
    "from sklearn.metrics import f1_score\n",
    "from sklearn.externals import joblib\n",
    "\n",
    "# Scipy\n",
    "from scipy.stats import mode\n",
    "\n",
    "# Gensim\n",
    "from gensim.models.doc2vec import TaggedDocument\n",
    "from gensim.models import Doc2Vec"
   ]
  },
  {
   "cell_type": "code",
   "execution_count": 7,
   "metadata": {
    "collapsed": true
   },
   "outputs": [],
   "source": [
    "# Fetch data\n",
    "os.chdir('/Users/daniellee/Desktop/Kaggle/data/stackoverflow_data/part1_approach1_output/')\n",
    "testX, trainX = map(pd.read_csv, glob.glob('*.csv')[:2])\n",
    "testy = pd.read_csv('testy.csv')\n",
    "trainy = pd.read_csv('trainy.csv')"
   ]
  },
  {
   "cell_type": "code",
   "execution_count": 15,
   "metadata": {
    "collapsed": false
   },
   "outputs": [],
   "source": [
    "train_y_set = pd.concat([trainX['combined'], trainy['category']], axis=1)"
   ]
  },
  {
   "cell_type": "code",
   "execution_count": 60,
   "metadata": {
    "collapsed": false
   },
   "outputs": [],
   "source": [
    "# Create a tagged document list containing tokenized content and title\n",
    "\n",
    "d2v_models = {}\n",
    "\n",
    "topic_labelized = []\n",
    "for topic in train_y_set.category.unique():\n",
    "    # series \n",
    "    train_subset = train_y_set.combined[train_y_set.category == topic]\n",
    "    labelized = [TaggedDocument(content.split(), [topic + '_' + str(_id)]) for _id, content in enumerate(train_subset)]\n",
    "    \n",
    "    topic_labelized += labelized\n",
    "    \n",
    "model = Doc2Vec(topic_labelized, size=100, window=5, min_count=1, workers=4)\n",
    "#labelized = [TaggedDocument(content.split(), [_id]) for content, _id in zip(data.text, data.title)]"
   ]
  },
  {
   "cell_type": "code",
   "execution_count": 596,
   "metadata": {
    "collapsed": false
   },
   "outputs": [],
   "source": [
    "# Class prediction\n",
    "\n",
    "def d2v_predict(x):\n",
    "    \n",
    "    def infer(x):\n",
    "        new_vector = model.infer_vector(x.split())\n",
    "        pred = model.docvecs.most_similar([new_vector],topn=10)\n",
    "\n",
    "        return mode([doc[:doc.find('_')] for doc, score in pred])\n",
    "    \n",
    "    return mode([infer(x) for i in range(15)])[0][0][0][0]"
   ]
  },
  {
   "cell_type": "code",
   "execution_count": 604,
   "metadata": {
    "collapsed": false
   },
   "outputs": [
    {
     "name": "stderr",
     "output_type": "stream",
     "text": [
      "/Users/daniellee/anaconda/lib/python3.5/site-packages/scipy/stats/stats.py:250: RuntimeWarning: The input array could not be properly checked for nan values. nan values will be ignored.\n",
      "  \"values. nan values will be ignored.\", RuntimeWarning)\n"
     ]
    }
   ],
   "source": [
    "pred = testX['combined'].apply(d2v_predict)"
   ]
  },
  {
   "cell_type": "code",
   "execution_count": 605,
   "metadata": {
    "collapsed": false
   },
   "outputs": [],
   "source": [
    "le = LabelEncoder()\n",
    "y_encode = le.fit(trainy['category'])\n",
    "\n",
    "test_pred_y = le.transform(pred)\n",
    "test_true_y = le.transform(testy['category'])\n",
    "\n",
    "testF1 = f1_score(test_pred_y, test_true_y, average='macro')"
   ]
  },
  {
   "cell_type": "code",
   "execution_count": 608,
   "metadata": {
    "collapsed": false
   },
   "outputs": [
    {
     "data": {
      "text/plain": [
       "0.88278440780975742"
      ]
     },
     "execution_count": 608,
     "metadata": {},
     "output_type": "execute_result"
    }
   ],
   "source": [
    "testF1"
   ]
  }
 ],
 "metadata": {
  "kernelspec": {
   "display_name": "Python [Root]",
   "language": "python",
   "name": "Python [Root]"
  },
  "language_info": {
   "codemirror_mode": {
    "name": "ipython",
    "version": 3
   },
   "file_extension": ".py",
   "mimetype": "text/x-python",
   "name": "python",
   "nbconvert_exporter": "python",
   "pygments_lexer": "ipython3",
   "version": "3.5.2"
  }
 },
 "nbformat": 4,
 "nbformat_minor": 0
}
