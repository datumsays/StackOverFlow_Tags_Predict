{
 "cells": [
  {
   "cell_type": "code",
   "execution_count": 1,
   "metadata": {
    "collapsed": false
   },
   "outputs": [
    {
     "data": {
      "text/plain": [
       "\"\\nN = 100\\n\\n# Simulation\\nclasses, labels = list(np.random.normal(-1,0.6,N)) + list(np.random.normal(1,0.9,N)),                   list(np.repeat(1,N)) + list(np.repeat(0,N))\\n\\ndata = pd.DataFrame({'x': list(map(lambda x: round(x,0), classes)), 'y': labels}); data.head()\\n\""
      ]
     },
     "execution_count": 1,
     "metadata": {},
     "output_type": "execute_result"
    }
   ],
   "source": [
    "import pandas as pd\n",
    "import numpy as np\n",
    "import seaborn as sn \n",
    "import os, glob, re\n",
    "import math\n",
    "\n",
    "\"\"\"\n",
    "N = 100\n",
    "\n",
    "# Simulation\n",
    "classes, labels = list(np.random.normal(-1,0.6,N)) + list(np.random.normal(1,0.9,N)),\\\n",
    "                   list(np.repeat(1,N)) + list(np.repeat(0,N))\n",
    "\n",
    "data = pd.DataFrame({'x': list(map(lambda x: round(x,0), classes)), 'y': labels}); data.head()\n",
    "\"\"\""
   ]
  },
  {
   "cell_type": "markdown",
   "metadata": {},
   "source": [
    "## Speed Performance Test"
   ]
  },
  {
   "cell_type": "code",
   "execution_count": 2,
   "metadata": {
    "collapsed": false
   },
   "outputs": [
    {
     "name": "stdout",
     "output_type": "stream",
     "text": [
      "1000 loops, best of 3: 248 µs per loop\n"
     ]
    }
   ],
   "source": [
    "from sklearn import tree\n",
    "\n",
    "tree = tree.DecisionTreeClassifier()\n",
    "%timeit tree.fit(data.x.reshape((N*2, 1)), data.y)"
   ]
  },
  {
   "cell_type": "code",
   "execution_count": 3,
   "metadata": {
    "collapsed": false
   },
   "outputs": [
    {
     "name": "stdout",
     "output_type": "stream",
     "text": [
      "The slowest run took 17.80 times longer than the fastest. This could mean that an intermediate result is being cached.\n",
      "1000 loops, best of 3: 435 µs per loop\n"
     ]
    }
   ],
   "source": [
    "from sklearn.naive_bayes import GaussianNB\n",
    "\n",
    "nb = GaussianNB()\n",
    "%timeit nb.fit(data.x.reshape((N*2, 1)), data.y)"
   ]
  },
  {
   "cell_type": "code",
   "execution_count": 4,
   "metadata": {
    "collapsed": false
   },
   "outputs": [
    {
     "data": {
      "text/plain": [
       "0.88500000000000012"
      ]
     },
     "execution_count": 4,
     "metadata": {},
     "output_type": "execute_result"
    }
   ],
   "source": [
    "from sklearn.cross_validation import cross_val_score\n",
    "\n",
    "np.mean(cross_val_score(tree, data.x.reshape((N*2, 1)), data.y, cv=10))"
   ]
  },
  {
   "cell_type": "code",
   "execution_count": 8,
   "metadata": {
    "collapsed": false
   },
   "outputs": [
    {
     "data": {
      "text/plain": [
       "0.82499999999999996"
      ]
     },
     "execution_count": 8,
     "metadata": {},
     "output_type": "execute_result"
    }
   ],
   "source": [
    "np.mean(cross_val_score(nb, data.x.reshape((N*2, 1)), data.y, cv=5))"
   ]
  },
  {
   "cell_type": "markdown",
   "metadata": {},
   "source": [
    "The winner is Decision tree which appears to perform better and faster than naive bayes."
   ]
  },
  {
   "cell_type": "markdown",
   "metadata": {},
   "source": [
    "### Reusable Code Base"
   ]
  },
  {
   "cell_type": "code",
   "execution_count": 2,
   "metadata": {
    "collapsed": false
   },
   "outputs": [],
   "source": [
    "import textmining\n",
    "\n",
    "# TFD function\n",
    "def term_document_dataframe(test_df):\n",
    "    \"\"\" Transforms a column with text into a set of\n",
    "        dummy variables for each word in a dictionary.\n",
    "    \"\"\"\n",
    "    \n",
    "    # Initialize class to create term-document matrix\n",
    "    tdm = textmining.TermDocumentMatrix()\n",
    "    \n",
    "    # Get word frequency in each document\n",
    "    for doc in test_df:\n",
    "        tdm.add_doc(doc)\n",
    "        \n",
    "    # Sets tdm into list data structure\n",
    "    tdmMatrix = list(tdm.rows(cutoff=1))\n",
    "    \n",
    "    return pd.DataFrame(tdmMatrix[1:], columns=tdmMatrix[0])\n",
    "\n",
    "# Number replacer \n",
    "def number_replacer(x):\n",
    "    \"\"\" Finds digit strings and replaces it \n",
    "        with alphabetical character values \"\"\"\n",
    "    \n",
    "    return re.sub('\\d', ' digitexist ', x)\n",
    "\n",
    "# Remove missing values\n",
    "def missing_value_remover(x):\n",
    "    \"\"\" Replaces missing value with an empty string \"\"\"\n",
    "    \n",
    "    if type(x).__name__ != 'str':\n",
    "        if math.isnan(x):\n",
    "            x = ''     \n",
    "    \n",
    "    return x"
   ]
  },
  {
   "cell_type": "markdown",
   "metadata": {},
   "source": [
    "## Load Data"
   ]
  },
  {
   "cell_type": "code",
   "execution_count": 2,
   "metadata": {
    "collapsed": false,
    "scrolled": true
   },
   "outputs": [
    {
     "data": {
      "text/html": [
       "<div>\n",
       "<table border=\"1\" class=\"dataframe\">\n",
       "  <thead>\n",
       "    <tr style=\"text-align: right;\">\n",
       "      <th></th>\n",
       "      <th>Unnamed: 0</th>\n",
       "      <th>Unnamed: 0.1</th>\n",
       "      <th>Unnamed: 0.1</th>\n",
       "      <th>id</th>\n",
       "      <th>title</th>\n",
       "      <th>content</th>\n",
       "      <th>tags</th>\n",
       "      <th>category</th>\n",
       "      <th>combined</th>\n",
       "      <th>content_size</th>\n",
       "      <th>title_size</th>\n",
       "      <th>tags_size</th>\n",
       "      <th>TitleNTags</th>\n",
       "      <th>ContentNTags</th>\n",
       "      <th>title_pred</th>\n",
       "      <th>content_pred</th>\n",
       "      <th>combined_pred</th>\n",
       "      <th>title_nouns</th>\n",
       "      <th>content_nouns</th>\n",
       "    </tr>\n",
       "  </thead>\n",
       "  <tbody>\n",
       "    <tr>\n",
       "      <th>0</th>\n",
       "      <td>0</td>\n",
       "      <td>0</td>\n",
       "      <td>0</td>\n",
       "      <td>1</td>\n",
       "      <td>criticality ribosome binding site relative sta...</td>\n",
       "      <td>prokaryotic translation critical efficient tra...</td>\n",
       "      <td>['ribosome', 'binding-sites', 'translation', '...</td>\n",
       "      <td>biology</td>\n",
       "      <td>criticality ribosome binding site relative sta...</td>\n",
       "      <td>24</td>\n",
       "      <td>9</td>\n",
       "      <td>4</td>\n",
       "      <td>2</td>\n",
       "      <td>2</td>\n",
       "      <td>criticality ribosome prokaryotic codon</td>\n",
       "      <td>translation 7b observable prokaryotic</td>\n",
       "      <td>translation prokaryotic ribosome codon</td>\n",
       "      <td>criticality ribosome binding site relative sta...</td>\n",
       "      <td>prokaryotic translation critical efficient tra...</td>\n",
       "    </tr>\n",
       "    <tr>\n",
       "      <th>1</th>\n",
       "      <td>1</td>\n",
       "      <td>1</td>\n",
       "      <td>1</td>\n",
       "      <td>2</td>\n",
       "      <td>rnase contamination rna based experiments prev...</td>\n",
       "      <td>anyone suggestions prevent rnase contamination...</td>\n",
       "      <td>['rna', 'biochemistry']</td>\n",
       "      <td>biology</td>\n",
       "      <td>rnase contamination rna based experiments prev...</td>\n",
       "      <td>21</td>\n",
       "      <td>6</td>\n",
       "      <td>2</td>\n",
       "      <td>1</td>\n",
       "      <td>1</td>\n",
       "      <td>prevented rnase contamination experiments</td>\n",
       "      <td>rnase depc pipette degradation</td>\n",
       "      <td>rnase contamination rna depc</td>\n",
       "      <td>rnase contamination rna based experiment preve...</td>\n",
       "      <td>doe anyone suggestion prevent rnase contaminat...</td>\n",
       "    </tr>\n",
       "    <tr>\n",
       "      <th>2</th>\n",
       "      <td>2</td>\n",
       "      <td>2</td>\n",
       "      <td>2</td>\n",
       "      <td>3</td>\n",
       "      <td>lymphocyte sizes clustered two groups</td>\n",
       "      <td>tortora writes principles anatomy physiology l...</td>\n",
       "      <td>['immunology', 'cell-biology', 'hematology']</td>\n",
       "      <td>biology</td>\n",
       "      <td>lymphocyte sizes clustered two groups tortora ...</td>\n",
       "      <td>31</td>\n",
       "      <td>5</td>\n",
       "      <td>3</td>\n",
       "      <td>0</td>\n",
       "      <td>0</td>\n",
       "      <td>clustered lymphocyte groups sizes</td>\n",
       "      <td>lymphocytes diameter tortora 14</td>\n",
       "      <td>lymphocytes clustered groups sizes</td>\n",
       "      <td>lymphocyte size clustered group</td>\n",
       "      <td>tortora principle anatomy physiology lymphocyt...</td>\n",
       "    </tr>\n",
       "  </tbody>\n",
       "</table>\n",
       "</div>"
      ],
      "text/plain": [
       "   Unnamed: 0  Unnamed: 0.1  Unnamed: 0.1  id  \\\n",
       "0           0             0             0   1   \n",
       "1           1             1             1   2   \n",
       "2           2             2             2   3   \n",
       "\n",
       "                                               title  \\\n",
       "0  criticality ribosome binding site relative sta...   \n",
       "1  rnase contamination rna based experiments prev...   \n",
       "2              lymphocyte sizes clustered two groups   \n",
       "\n",
       "                                             content  \\\n",
       "0  prokaryotic translation critical efficient tra...   \n",
       "1  anyone suggestions prevent rnase contamination...   \n",
       "2  tortora writes principles anatomy physiology l...   \n",
       "\n",
       "                                                tags category  \\\n",
       "0  ['ribosome', 'binding-sites', 'translation', '...  biology   \n",
       "1                            ['rna', 'biochemistry']  biology   \n",
       "2       ['immunology', 'cell-biology', 'hematology']  biology   \n",
       "\n",
       "                                            combined  content_size  \\\n",
       "0  criticality ribosome binding site relative sta...            24   \n",
       "1  rnase contamination rna based experiments prev...            21   \n",
       "2  lymphocyte sizes clustered two groups tortora ...            31   \n",
       "\n",
       "   title_size  tags_size  TitleNTags  ContentNTags  \\\n",
       "0           9          4           2             2   \n",
       "1           6          2           1             1   \n",
       "2           5          3           0             0   \n",
       "\n",
       "                                  title_pred  \\\n",
       "0     criticality ribosome prokaryotic codon   \n",
       "1  prevented rnase contamination experiments   \n",
       "2          clustered lymphocyte groups sizes   \n",
       "\n",
       "                            content_pred  \\\n",
       "0  translation 7b observable prokaryotic   \n",
       "1         rnase depc pipette degradation   \n",
       "2        lymphocytes diameter tortora 14   \n",
       "\n",
       "                            combined_pred  \\\n",
       "0  translation prokaryotic ribosome codon   \n",
       "1            rnase contamination rna depc   \n",
       "2      lymphocytes clustered groups sizes   \n",
       "\n",
       "                                         title_nouns  \\\n",
       "0  criticality ribosome binding site relative sta...   \n",
       "1  rnase contamination rna based experiment preve...   \n",
       "2                    lymphocyte size clustered group   \n",
       "\n",
       "                                       content_nouns  \n",
       "0  prokaryotic translation critical efficient tra...  \n",
       "1  doe anyone suggestion prevent rnase contaminat...  \n",
       "2  tortora principle anatomy physiology lymphocyt...  "
      ]
     },
     "execution_count": 2,
     "metadata": {},
     "output_type": "execute_result"
    }
   ],
   "source": [
    "os.chdir('/Users/daniellee/Desktop/Kaggle/jobs_code_demo/data/stackoverflow_data/')\n",
    "\n",
    "train = pd.read_csv('cleaned/topic_model_df_train.csv'); train.head(3)\n",
    "test = pd.read_csv('cleaned/topic_model_df_test.csv'); train.head(3)"
   ]
  },
  {
   "cell_type": "markdown",
   "metadata": {},
   "source": [
    "## Feature Engineering"
   ]
  },
  {
   "cell_type": "code",
   "execution_count": 32,
   "metadata": {
    "collapsed": false
   },
   "outputs": [],
   "source": [
    "train = train[['tags','title_nouns','content_nouns','category']]\n",
    "train.columns = ['tags','title','content','category']"
   ]
  },
  {
   "cell_type": "code",
   "execution_count": 39,
   "metadata": {
    "collapsed": false
   },
   "outputs": [],
   "source": [
    "# Replace missing values\n",
    "\n",
    "for col in ['title','content']:\n",
    "    train[col] = train[col].map(missing_value_remover)\n",
    "    test[col] = test[col].map(missing_value_remover)"
   ]
  },
  {
   "cell_type": "code",
   "execution_count": 40,
   "metadata": {
    "collapsed": false
   },
   "outputs": [],
   "source": [
    "# Combine content\n",
    "\n",
    "train['combined'] = train['title'] + ' ' + train['content']\n",
    "test['combined'] = test['title'] + ' ' + test['content']"
   ]
  },
  {
   "cell_type": "code",
   "execution_count": 43,
   "metadata": {
    "collapsed": true
   },
   "outputs": [],
   "source": [
    "# Replce numeric characters with the word digitexist\n",
    "\n",
    "train['title'] = train['title'].map(number_replacer)\n",
    "test['title'] = test['title'].map(number_replacer)"
   ]
  },
  {
   "cell_type": "code",
   "execution_count": 28,
   "metadata": {
    "collapsed": false
   },
   "outputs": [
    {
     "data": {
      "text/plain": [
       "array([ 0.91617694,  0.94941367,  0.1693934 , ...,  0.01336172,\n",
       "        0.84560524,  0.36253842])"
      ]
     },
     "execution_count": 28,
     "metadata": {},
     "output_type": "execute_result"
    }
   ],
   "source": [
    "index = np.random.choice(train.shape[0], int(train.shape[0]*0.10), False)\n",
    "trainX = train.ix[index, 'combined'].map(number_replacer)\n",
    "trainTestX = train."
   ]
  },
  {
   "cell_type": "code",
   "execution_count": null,
   "metadata": {
    "collapsed": false
   },
   "outputs": [],
   "source": [
    "# Create TFD matrices from train and test data\n",
    "trainX = term_document_dataframe(train['title'])"
   ]
  },
  {
   "cell_type": "code",
   "execution_count": null,
   "metadata": {
    "collapsed": true
   },
   "outputs": [],
   "source": []
  },
  {
   "cell_type": "code",
   "execution_count": 21,
   "metadata": {
    "collapsed": false
   },
   "outputs": [
    {
     "name": "stdout",
     "output_type": "stream",
     "text": [
      "1969-12-31 19:00:39\n"
     ]
    }
   ],
   "source": [
    "import time, datetime\n",
    "\n",
    "start = time.clock()\n",
    "term_document_dataframe(train['combined'][:5000])\n",
    "end = time.clock()\n",
    "value = end - start\n",
    "timestamp = datetime.datetime.fromtimestamp(value)\n",
    "print(timestamp.strftime('%Y-%m-%d %H:%M:%S'))"
   ]
  },
  {
   "cell_type": "code",
   "execution_count": null,
   "metadata": {
    "collapsed": true
   },
   "outputs": [],
   "source": [
    "testX  = term_document_dataframe(test['combined'])"
   ]
  },
  {
   "cell_type": "code",
   "execution_count": null,
   "metadata": {
    "collapsed": true
   },
   "outputs": [],
   "source": [
    "# Derive a dummy set from topic column\n",
    "trainTopics = pd.get_dummies(train.category)"
   ]
  },
  {
   "cell_type": "code",
   "execution_count": null,
   "metadata": {
    "collapsed": true
   },
   "outputs": [],
   "source": []
  },
  {
   "cell_type": "markdown",
   "metadata": {},
   "source": [
    "### Tier 1 Prediction: Topic Prediction "
   ]
  },
  {
   "cell_type": "code",
   "execution_count": null,
   "metadata": {
    "collapsed": false
   },
   "outputs": [],
   "source": [
    "# Train decision tree\n",
    "\n",
    "from sklearn.tree import DecisionTreeClassifier()\n",
    "from operator import itemgetter\n",
    "\n",
    "# Initialize and train model\n",
    "tree = DecisionTreeClassifier()\n",
    "\n",
    "# Train Data\n",
    "topicmodels = {}\n",
    "for topic in train.category.unique():\n",
    "    topicmodels[topic] = tree.fit(trainX, trainTopics[train]) \n",
    "    \n",
    "# Predict Topics\n",
    "topicPredList = [list(sorted([(topic, topicmodels[topic].predict_proba(sentence)) for topic in train.category.unique()] \\\n",
    "            , key=itemgetter(1), reverse=True))[0] for sentence in test]\n",
    "        \n",
    "# Predict topic for each test document\n",
    "test['topic_pred'] = topicPredList "
   ]
  },
  {
   "cell_type": "code",
   "execution_count": null,
   "metadata": {
    "collapsed": true
   },
   "outputs": [],
   "source": []
  },
  {
   "cell_type": "code",
   "execution_count": null,
   "metadata": {
    "collapsed": true
   },
   "outputs": [],
   "source": []
  },
  {
   "cell_type": "code",
   "execution_count": null,
   "metadata": {
    "collapsed": true
   },
   "outputs": [],
   "source": []
  },
  {
   "cell_type": "code",
   "execution_count": null,
   "metadata": {
    "collapsed": true
   },
   "outputs": [],
   "source": []
  },
  {
   "cell_type": "code",
   "execution_count": null,
   "metadata": {
    "collapsed": true
   },
   "outputs": [],
   "source": []
  },
  {
   "cell_type": "code",
   "execution_count": null,
   "metadata": {
    "collapsed": true
   },
   "outputs": [],
   "source": []
  },
  {
   "cell_type": "code",
   "execution_count": null,
   "metadata": {
    "collapsed": true
   },
   "outputs": [],
   "source": []
  },
  {
   "cell_type": "code",
   "execution_count": null,
   "metadata": {
    "collapsed": true
   },
   "outputs": [],
   "source": []
  },
  {
   "cell_type": "code",
   "execution_count": null,
   "metadata": {
    "collapsed": true
   },
   "outputs": [],
   "source": []
  }
 ],
 "metadata": {
  "anaconda-cloud": {},
  "kernelspec": {
   "display_name": "Python [Root]",
   "language": "python",
   "name": "Python [Root]"
  },
  "language_info": {
   "codemirror_mode": {
    "name": "ipython",
    "version": 3
   },
   "file_extension": ".py",
   "mimetype": "text/x-python",
   "name": "python",
   "nbconvert_exporter": "python",
   "pygments_lexer": "ipython3",
   "version": "3.5.2"
  }
 },
 "nbformat": 4,
 "nbformat_minor": 0
}
