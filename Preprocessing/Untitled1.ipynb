{
 "cells": [
  {
   "cell_type": "code",
   "execution_count": 1,
   "metadata": {
    "collapsed": true
   },
   "outputs": [],
   "source": [
    "x = {'biology': 'left hand bigger right hand noticed left hand bigge', 'diy': 'kind wood around fireplace take look pictu', 'cooking': 'best way get started without paying culinary scho', 'robotics': 'wires columns contract passing electricity background intr', 'crypto': 'prove knowledge discrete logarithm product definition', 'travel': 'traveling us transit visa recently got transit '}"
   ]
  },
  {
   "cell_type": "code",
   "execution_count": 15,
   "metadata": {
    "collapsed": false
   },
   "outputs": [
    {
     "data": {
      "text/plain": [
       "['traveling',\n",
       " 'us',\n",
       " 'transit',\n",
       " 'visa',\n",
       " 'recently',\n",
       " 'got',\n",
       " 'transit',\n",
       " 'left',\n",
       " 'hand',\n",
       " 'bigger',\n",
       " 'right',\n",
       " 'hand',\n",
       " 'noticed',\n",
       " 'left',\n",
       " 'hand',\n",
       " 'bigge',\n",
       " 'best',\n",
       " 'way',\n",
       " 'get',\n",
       " 'started',\n",
       " 'without',\n",
       " 'paying',\n",
       " 'culinary',\n",
       " 'scho',\n",
       " 'kind',\n",
       " 'wood',\n",
       " 'around',\n",
       " 'fireplace',\n",
       " 'take',\n",
       " 'look',\n",
       " 'pictu',\n",
       " 'wires',\n",
       " 'columns',\n",
       " 'contract',\n",
       " 'passing',\n",
       " 'electricity',\n",
       " 'background',\n",
       " 'intr',\n",
       " 'prove',\n",
       " 'knowledge',\n",
       " 'discrete',\n",
       " 'logarithm',\n",
       " 'product',\n",
       " 'definition']"
      ]
     },
     "execution_count": 15,
     "metadata": {},
     "output_type": "execute_result"
    }
   ],
   "source": [
    "from itertools import chain\n",
    "\n",
    "' '.join(x.values()).split()"
   ]
  }
 ],
 "metadata": {
  "anaconda-cloud": {},
  "kernelspec": {
   "display_name": "Python [Root]",
   "language": "python",
   "name": "Python [Root]"
  },
  "language_info": {
   "codemirror_mode": {
    "name": "ipython",
    "version": 3
   },
   "file_extension": ".py",
   "mimetype": "text/x-python",
   "name": "python",
   "nbconvert_exporter": "python",
   "pygments_lexer": "ipython3",
   "version": "3.5.2"
  }
 },
 "nbformat": 4,
 "nbformat_minor": 0
}
